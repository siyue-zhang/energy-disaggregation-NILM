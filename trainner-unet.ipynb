{
 "cells": [
  {
   "cell_type": "code",
   "execution_count": 1,
   "id": "6146b1b4",
   "metadata": {},
   "outputs": [],
   "source": [
    "from utils import *\n",
    "from sklearn.metrics import mean_absolute_error as mae\n"
   ]
  },
  {
   "cell_type": "code",
   "execution_count": 2,
   "id": "6e00caf0",
   "metadata": {},
   "outputs": [
    {
     "data": {
      "text/plain": [
       "(5733526, 2)"
      ]
     },
     "execution_count": 2,
     "metadata": {},
     "output_type": "execute_result"
    }
   ],
   "source": [
    "df = load_file(\"DW_df\")\n",
    "df.shape"
   ]
  },
  {
   "cell_type": "code",
   "execution_count": null,
   "id": "21723b28",
   "metadata": {},
   "outputs": [],
   "source": [
    "df.iloc[8000:15000,:].plot()"
   ]
  },
  {
   "cell_type": "code",
   "execution_count": null,
   "id": "076a312d",
   "metadata": {},
   "outputs": [],
   "source": [
    "analyze_appliance_signature(df, df.columns[1], 10)"
   ]
  },
  {
   "cell_type": "code",
   "execution_count": null,
   "id": "52fc983d",
   "metadata": {},
   "outputs": [],
   "source": [
    "# def remove_off_steps(df,on_threshold = 40,limit = 2000):\n",
    "#     status = df.iloc[:,1].values > on_threshold\n",
    "#     indexes = []\n",
    "#     for i in range(limit, len(status)-limit):\n",
    "#         if status[i] == True or np.sum(status[i-limit//2:i+limit//2]) != 0:\n",
    "#             indexes.append(i)\n",
    "#     df_indexes = df.index[indexes]\n",
    "#     df = df.loc[df_indexes]\n",
    "#     analyze_appliance_signature(df, df.columns[1], on_threshold)\n",
    "#     return df\n",
    "\n",
    "# df_removed = remove_off_steps(df)"
   ]
  },
  {
   "cell_type": "code",
   "execution_count": null,
   "id": "f85bea2c",
   "metadata": {},
   "outputs": [],
   "source": [
    "# df_removed.shape"
   ]
  },
  {
   "cell_type": "code",
   "execution_count": null,
   "id": "b31e3fbd",
   "metadata": {},
   "outputs": [],
   "source": [
    "# plt.plot(df_removed.head(2000))"
   ]
  },
  {
   "cell_type": "code",
   "execution_count": 3,
   "id": "ee7e20ef",
   "metadata": {},
   "outputs": [],
   "source": [
    "df_norm, normalizer = fit_normalize_df(df)"
   ]
  },
  {
   "cell_type": "code",
   "execution_count": 4,
   "id": "830634a5",
   "metadata": {},
   "outputs": [
    {
     "data": {
      "text/plain": [
       "device(type='cuda', index=0)"
      ]
     },
     "execution_count": 4,
     "metadata": {},
     "output_type": "execute_result"
    }
   ],
   "source": [
    "import torch\n",
    "from torch import nn\n",
    "import random\n",
    "\n",
    "import torchvision\n",
    "from torch.utils.data import Dataset, DataLoader\n",
    "\n",
    "def get_device():\n",
    "    use_cuda = torch.cuda.is_available()\n",
    "    device = torch.device(\"cuda:0\" if use_cuda else \"cpu\")\n",
    "    return device\n",
    "\n",
    "device = get_device()\n",
    "device"
   ]
  },
  {
   "cell_type": "code",
   "execution_count": 5,
   "id": "4af8ab18",
   "metadata": {},
   "outputs": [],
   "source": [
    "class NILMDataset(Dataset):\n",
    "    def __init__(self, df, window_size=512, stride=100):\n",
    "        self.data = df\n",
    "        self.window_size = window_size\n",
    "        self.nrows = df.shape[0]\n",
    "        self.stride = stride\n",
    "\n",
    "    def __len__(self):     \n",
    "        return (self.nrows-self.window_size+1)//self.stride\n",
    "\n",
    "    def __getitem__(self, i):\n",
    "        i = self.stride*i\n",
    "        aggregate = self.data.iloc[i:i+self.window_size,0].values.reshape(1,-1)\n",
    "        appliance = self.data.iloc[i:i+self.window_size,1].values.reshape(1,-1)\n",
    "        return aggregate, appliance\n",
    "\n",
    "train_size = 0.7\n",
    "pos = int(train_size*df.shape[0])\n",
    "df_train = df_norm.iloc[:pos,:]\n",
    "\n",
    "train_set = NILMDataset(df_train)\n",
    "train_generator = DataLoader(train_set, batch_size=500, shuffle=False)"
   ]
  },
  {
   "cell_type": "code",
   "execution_count": 6,
   "id": "40d71084",
   "metadata": {},
   "outputs": [
    {
     "data": {
      "text/plain": [
       "81"
      ]
     },
     "execution_count": 6,
     "metadata": {},
     "output_type": "execute_result"
    }
   ],
   "source": [
    "len(train_generator)"
   ]
  },
  {
   "cell_type": "code",
   "execution_count": 7,
   "id": "b15e561c",
   "metadata": {},
   "outputs": [
    {
     "data": {
      "text/plain": [
       "(torch.Size([500, 1, 512]), torch.Size([500, 1, 512]))"
      ]
     },
     "execution_count": 7,
     "metadata": {},
     "output_type": "execute_result"
    }
   ],
   "source": [
    "for x,y in train_generator:\n",
    "    break\n",
    "x.size(), y.size()\n"
   ]
  },
  {
   "cell_type": "code",
   "execution_count": 8,
   "id": "c530ffdf",
   "metadata": {},
   "outputs": [],
   "source": [
    "# UNet components\n",
    "def crop(series, new_shape):\n",
    "    '''\n",
    "    Function for cropping an image tensor: Given an image tensor and the new shape,\n",
    "    crops to the center pixels.\n",
    "    Parameters:\n",
    "        image: image tensor of shape (batch size, channels, height, width)\n",
    "        new_shape: a torch.Size object with the shape you want x to have\n",
    "    '''\n",
    "    middle = series.shape[2] // 2\n",
    "    starting = middle - round(new_shape[2] / 2)\n",
    "    final = starting + new_shape[2]\n",
    "    cropped_series = series[:, :, starting:final]\n",
    "    return cropped_series\n",
    "\n",
    "class ContractingBlock(nn.Module):\n",
    "    '''\n",
    "    ContractingBlock Class\n",
    "    Performs two convolutions followed by a max pool operation.\n",
    "    Values:\n",
    "        input_channels: the number of channels to expect from a given input\n",
    "    '''\n",
    "    def __init__(self, input_channels, use_dropout=False, use_bn=True):\n",
    "        super(ContractingBlock, self).__init__()\n",
    "        self.conv1 = nn.Conv1d(input_channels, input_channels * 2, kernel_size=3, padding=1)\n",
    "        self.conv2 = nn.Conv1d(input_channels * 2, input_channels * 2, kernel_size=3, padding=1)\n",
    "        self.activation = nn.LeakyReLU(0.2)\n",
    "        self.maxpool = nn.MaxPool1d(kernel_size=2, stride=2)\n",
    "        if use_bn:\n",
    "            self.batchnorm = nn.BatchNorm1d(input_channels * 2)\n",
    "        self.use_bn = use_bn\n",
    "        if use_dropout:\n",
    "            self.dropout = nn.Dropout(p=0.2)\n",
    "        self.use_dropout = use_dropout\n",
    "\n",
    "    def forward(self, x):\n",
    "        '''\n",
    "        Function for completing a forward pass of ContractingBlock: \n",
    "        Given an image tensor, completes a contracting block and returns the transformed tensor.\n",
    "        Parameters:\n",
    "            x: image tensor of shape (batch size, channels, height, width)\n",
    "        '''\n",
    "        x = self.conv1(x)\n",
    "        if self.use_bn:\n",
    "            x = self.batchnorm(x)\n",
    "        if self.use_dropout:\n",
    "            x = self.dropout(x)\n",
    "        x = self.activation(x)\n",
    "        x = self.conv2(x)\n",
    "        if self.use_bn:\n",
    "            x = self.batchnorm(x)\n",
    "        if self.use_dropout:\n",
    "            x = self.dropout(x)\n",
    "        x = self.activation(x)\n",
    "        x = self.maxpool(x)\n",
    "        return x\n",
    "\n",
    "class ExpandingBlock(nn.Module):\n",
    "    '''\n",
    "    ExpandingBlock Class:\n",
    "    Performs an upsampling, a convolution, a concatenation of its two inputs,\n",
    "    followed by two more convolutions with optional dropout\n",
    "    Values:\n",
    "        input_channels: the number of channels to expect from a given input\n",
    "    '''\n",
    "    def __init__(self, input_channels, use_dropout=False, use_bn=True):\n",
    "        super(ExpandingBlock, self).__init__()\n",
    "        self.upsample = nn.Upsample(scale_factor=2, mode='linear', align_corners=True)\n",
    "        self.conv1 = nn.Conv1d(input_channels, input_channels // 2, kernel_size=2)\n",
    "        self.conv2 = nn.Conv1d(input_channels, input_channels // 2, kernel_size=3, padding=1)\n",
    "        self.conv3 = nn.Conv1d(input_channels // 2, input_channels // 2, kernel_size=2, padding=1)\n",
    "        if use_bn:\n",
    "            self.batchnorm = nn.BatchNorm1d(input_channels // 2)\n",
    "        self.use_bn = use_bn\n",
    "        self.activation = nn.ReLU()\n",
    "        if use_dropout:\n",
    "            self.dropout = nn.Dropout(p=0.2)\n",
    "        self.use_dropout = use_dropout\n",
    "\n",
    "    def forward(self, x, skip_con_x):\n",
    "        '''\n",
    "        Function for completing a forward pass of ExpandingBlock: \n",
    "        Given an image tensor, completes an expanding block and returns the transformed tensor.\n",
    "        Parameters:\n",
    "            x: image tensor of shape (batch size, channels, height, width)\n",
    "            skip_con_x: the image tensor from the contracting path (from the opposing block of x)\n",
    "                    for the skip connection\n",
    "        '''\n",
    "        x = self.upsample(x)\n",
    "        x = self.conv1(x)\n",
    "        skip_con_x = crop(skip_con_x, x.shape)\n",
    "        x = torch.cat([x, skip_con_x],1)\n",
    "        x = self.conv2(x)\n",
    "        if self.use_bn:\n",
    "            x = self.batchnorm(x)\n",
    "        if self.use_dropout:\n",
    "            x = self.dropout(x)\n",
    "        x = self.activation(x)\n",
    "        x = self.conv3(x)\n",
    "        if self.use_bn:\n",
    "            x = self.batchnorm(x)\n",
    "        if self.use_dropout:\n",
    "            x = self.dropout(x)\n",
    "        x = self.activation(x)\n",
    "        return x\n",
    "\n",
    "class FeatureMapBlock(nn.Module):\n",
    "    '''\n",
    "    FeatureMapBlock Class\n",
    "    The final layer of a U-Net - \n",
    "    maps each pixel to a pixel with the correct number of output dimensions\n",
    "    using a 1x1 convolution.\n",
    "    Values:\n",
    "        input_channels: the number of channels to expect from a given input\n",
    "        output_channels: the number of channels to expect for a given output\n",
    "    '''\n",
    "    def __init__(self, input_channels, output_channels):\n",
    "        super(FeatureMapBlock, self).__init__()\n",
    "        self.conv = nn.Conv1d(input_channels, output_channels, kernel_size=1)\n",
    "\n",
    "    def forward(self, x):\n",
    "        '''\n",
    "        Function for completing a forward pass of FeatureMapBlock: \n",
    "        Given an image tensor, returns it mapped to the desired number of channels.\n",
    "        Parameters:\n",
    "            x: image tensor of shape (batch size, channels, height, width)\n",
    "        '''\n",
    "        x = self.conv(x)\n",
    "        return x"
   ]
  },
  {
   "cell_type": "code",
   "execution_count": 9,
   "id": "8c5208b0",
   "metadata": {},
   "outputs": [],
   "source": [
    "class UNet(nn.Module):\n",
    "    '''\n",
    "    UNet Class\n",
    "    A series of 4 contracting blocks followed by 4 expanding blocks to \n",
    "    transform an input image into the corresponding paired image, with an upfeature\n",
    "    layer at the start and a downfeature layer at the end.\n",
    "    Values:\n",
    "        input_channels: the number of channels to expect from a given input\n",
    "        output_channels: the number of channels to expect for a given output\n",
    "    '''\n",
    "    def __init__(self, input_channels, output_channels, hidden_channels=32):\n",
    "        super(UNet, self).__init__()\n",
    "        self.upfeature = FeatureMapBlock(input_channels, hidden_channels)\n",
    "        self.contract1 = ContractingBlock(hidden_channels, use_dropout=True)\n",
    "        self.contract2 = ContractingBlock(hidden_channels * 2, use_dropout=True)\n",
    "        self.contract3 = ContractingBlock(hidden_channels * 4, use_dropout=True)\n",
    "        self.contract4 = ContractingBlock(hidden_channels * 8)\n",
    "        self.contract5 = ContractingBlock(hidden_channels * 16)\n",
    "        self.contract6 = ContractingBlock(hidden_channels * 32)\n",
    "        self.expand0 = ExpandingBlock(hidden_channels * 64)\n",
    "        self.expand1 = ExpandingBlock(hidden_channels * 32)\n",
    "        self.expand2 = ExpandingBlock(hidden_channels * 16)\n",
    "        self.expand3 = ExpandingBlock(hidden_channels * 8)\n",
    "        self.expand4 = ExpandingBlock(hidden_channels * 4)\n",
    "        self.expand5 = ExpandingBlock(hidden_channels * 2)\n",
    "        self.downfeature = FeatureMapBlock(hidden_channels, output_channels)\n",
    "\n",
    "    def forward(self, x):\n",
    "        '''\n",
    "        Function for completing a forward pass of UNet: \n",
    "        Given an image tensor, passes it through U-Net and returns the output.\n",
    "        Parameters:\n",
    "            x: image tensor of shape (batch size, channels, height, width)\n",
    "        '''\n",
    "        x0 = self.upfeature(x)\n",
    "        x1 = self.contract1(x0)\n",
    "        x2 = self.contract2(x1)\n",
    "        x3 = self.contract3(x2)\n",
    "        x4 = self.contract4(x3)\n",
    "        x5 = self.contract5(x4)\n",
    "        x6 = self.contract6(x5)\n",
    "        x7 = self.expand0(x6, x5)\n",
    "        x8 = self.expand1(x7, x4)\n",
    "        x9 = self.expand2(x8, x3)\n",
    "        x10 = self.expand3(x9, x2)\n",
    "        x11 = self.expand4(x10, x1)\n",
    "        x12 = self.expand5(x11, x0)\n",
    "        xn = self.downfeature(x12)\n",
    "        return xn"
   ]
  },
  {
   "cell_type": "code",
   "execution_count": null,
   "id": "bd2f90f4",
   "metadata": {},
   "outputs": [],
   "source": [
    "from torchsummary import summary\n",
    "model = UNet(1,1)\n",
    "summary(model, (1,512), batch_size=500, device=\"cpu\")"
   ]
  },
  {
   "cell_type": "code",
   "execution_count": 10,
   "id": "8620cfb8",
   "metadata": {},
   "outputs": [],
   "source": [
    "n_epochs = 20\n",
    "input_dim = 1\n",
    "output_dim = 1\n",
    "visulize_step = 20\n",
    "lr = 0.001\n",
    "\n",
    "model = UNet(input_dim,output_dim).to(device)\n",
    "\n",
    "criterion = nn.MSELoss()\n",
    "optim = torch.optim.Adam(model.parameters(), lr=lr)\n",
    "\n",
    "def weights_init(m):\n",
    "    if isinstance(m, nn.Conv1d) or isinstance(m, nn.ConvTranspose1d):\n",
    "        torch.nn.init.normal_(m.weight, 0.0, 0.02)\n",
    "    if isinstance(m, nn.BatchNorm1d):\n",
    "        torch.nn.init.normal_(m.weight, 0.0, 0.02)\n",
    "        torch.nn.init.constant_(m.bias, 0)\n",
    "\n",
    "model = model.apply(weights_init)"
   ]
  },
  {
   "cell_type": "code",
   "execution_count": 11,
   "id": "55d8e987",
   "metadata": {},
   "outputs": [],
   "source": [
    "def validate_model(df,model,val_size=0.1):\n",
    "    train_size = 1-val_size\n",
    "    pos = int(train_size*df.shape[0])\n",
    "    df_test = df.iloc[pos:,:]\n",
    "    df_test_norm = normalizer.transform(df_test)\n",
    "\n",
    "    class NILMTestDataset(Dataset):\n",
    "        def __init__(self, df, window_size=512, stride=512):\n",
    "            self.data = df\n",
    "            self.window_size = window_size\n",
    "            self.nrows = df.shape[0]\n",
    "            self.stride = stride\n",
    "\n",
    "        def __len__(self):     \n",
    "            return (self.nrows-self.window_size+1)//self.stride\n",
    "\n",
    "        def __getitem__(self, i):\n",
    "            i = self.stride*i\n",
    "            aggregate = self.data.iloc[i:i+self.window_size,0].values.reshape(1,-1)\n",
    "            appliance = self.data.iloc[i:i+self.window_size,1].values.reshape(1,-1)\n",
    "            return aggregate, appliance\n",
    "\n",
    "    test_set = NILMTestDataset(df_test_norm)\n",
    "    test_generator = DataLoader(test_set, batch_size=500, shuffle=False)\n",
    "    \n",
    "    preds = []\n",
    "    reals = []\n",
    "    aggs = []\n",
    "\n",
    "    with torch.no_grad():\n",
    "        for aggregate, appliance in test_generator:\n",
    "            agg = aggregate.numpy().reshape(-1)\n",
    "            pred = model(aggregate.to(torch.float32).to(device))\n",
    "            pred = pred.detach().cpu().numpy().reshape(-1)\n",
    "            real = appliance.numpy().reshape(-1)\n",
    "\n",
    "            aggs += agg.tolist()\n",
    "            preds += pred.tolist()\n",
    "            reals += real.tolist()\n",
    "            \n",
    "    aggs_inv = [x*normalizer.sd.values[0] + normalizer.mu.values[0] for x in aggs]\n",
    "    reals_inv = [x*normalizer.sd.values[1] + normalizer.mu.values[1] for x in reals]\n",
    "    preds_inv = [x*normalizer.sd.values[1] + normalizer.mu.values[1] for x in preds]\n",
    "    s = mae(reals_inv, preds_inv)\n",
    "    print(f\"Validation set MAE loss: {s:.5f}\")\n",
    "    \n",
    "    return"
   ]
  },
  {
   "cell_type": "code",
   "execution_count": 12,
   "id": "8a8d46e7",
   "metadata": {},
   "outputs": [
    {
     "name": "stderr",
     "output_type": "stream",
     "text": [
      "C:\\Users\\z1061\\Anaconda3\\envs\\pytorchenv_gpu\\lib\\site-packages\\torch\\nn\\functional.py:652: UserWarning: Named tensors and all their associated APIs are an experimental feature and subject to change. Please do not use them for anything important until they are released as stable. (Triggered internally at  ..\\c10/core/TensorImpl.h:1156.)\n",
      "  return torch.max_pool1d(input, kernel_size, stride, padding, dilation, ceil_mode)\n"
     ]
    },
    {
     "name": "stdout",
     "output_type": "stream",
     "text": [
      "[Epoch  1/20] Batch 20/81 loss: 0.94105\n",
      "[Epoch  1/20] Batch 40/81 loss: 0.88517\n",
      "[Epoch  1/20] Batch 60/81 loss: 0.61112\n",
      "[Epoch  1/20] Batch 80/81 loss: 0.92508\n",
      "Validation set MAE loss: 88.30824\n",
      "[Epoch  2/20] Batch 20/81 loss: 0.63467\n",
      "[Epoch  2/20] Batch 40/81 loss: 0.54209\n",
      "[Epoch  2/20] Batch 60/81 loss: 0.36837\n",
      "[Epoch  2/20] Batch 80/81 loss: 0.60198\n",
      "Validation set MAE loss: 76.85956\n",
      "[Epoch  3/20] Batch 20/81 loss: 0.39820\n",
      "[Epoch  3/20] Batch 40/81 loss: 0.39011\n",
      "[Epoch  3/20] Batch 60/81 loss: 0.35956\n",
      "[Epoch  3/20] Batch 80/81 loss: 0.54552\n",
      "Validation set MAE loss: 63.73337\n",
      "[Epoch  4/20] Batch 20/81 loss: 0.37703\n",
      "[Epoch  4/20] Batch 40/81 loss: 0.32810\n",
      "[Epoch  4/20] Batch 60/81 loss: 0.33618\n",
      "[Epoch  4/20] Batch 80/81 loss: 0.48876\n",
      "Validation set MAE loss: 65.13090\n",
      "[Epoch  5/20] Batch 20/81 loss: 0.32569\n",
      "[Epoch  5/20] Batch 40/81 loss: 0.31576\n",
      "[Epoch  5/20] Batch 60/81 loss: 0.29509\n",
      "[Epoch  5/20] Batch 80/81 loss: 0.46657\n",
      "Validation set MAE loss: 73.91923\n",
      "[Epoch  6/20] Batch 20/81 loss: 0.38140\n",
      "[Epoch  6/20] Batch 40/81 loss: 0.31428\n",
      "[Epoch  6/20] Batch 60/81 loss: 0.29564\n",
      "[Epoch  6/20] Batch 80/81 loss: 0.46644\n",
      "Validation set MAE loss: 65.29045\n",
      "[Epoch  7/20] Batch 20/81 loss: 0.32737\n",
      "[Epoch  7/20] Batch 40/81 loss: 0.31794\n",
      "[Epoch  7/20] Batch 60/81 loss: 0.28197\n",
      "[Epoch  7/20] Batch 80/81 loss: 0.45706\n",
      "Validation set MAE loss: 68.00451\n",
      "[Epoch  8/20] Batch 20/81 loss: 0.31237\n",
      "[Epoch  8/20] Batch 40/81 loss: 0.29544\n",
      "[Epoch  8/20] Batch 60/81 loss: 0.28320\n",
      "[Epoch  8/20] Batch 80/81 loss: 0.45516\n",
      "Validation set MAE loss: 58.73004\n",
      "[Epoch  9/20] Batch 20/81 loss: 0.32213\n",
      "[Epoch  9/20] Batch 40/81 loss: 0.30503\n",
      "[Epoch  9/20] Batch 60/81 loss: 0.27227\n",
      "[Epoch  9/20] Batch 80/81 loss: 0.44063\n",
      "Validation set MAE loss: 56.37734\n",
      "[Epoch 10/20] Batch 20/81 loss: 0.31208\n",
      "[Epoch 10/20] Batch 40/81 loss: 0.29373\n",
      "[Epoch 10/20] Batch 60/81 loss: 0.27512\n",
      "[Epoch 10/20] Batch 80/81 loss: 0.45957\n",
      "Validation set MAE loss: 64.77748\n",
      "[Epoch 11/20] Batch 20/81 loss: 0.30818\n",
      "[Epoch 11/20] Batch 40/81 loss: 0.30687\n",
      "[Epoch 11/20] Batch 60/81 loss: 0.26076\n",
      "[Epoch 11/20] Batch 80/81 loss: 0.43807\n",
      "Validation set MAE loss: 58.27393\n",
      "[Epoch 12/20] Batch 20/81 loss: 0.30425\n",
      "[Epoch 12/20] Batch 40/81 loss: 0.30801\n",
      "[Epoch 12/20] Batch 60/81 loss: 0.26547\n",
      "[Epoch 12/20] Batch 80/81 loss: 0.42821\n",
      "Validation set MAE loss: 65.45492\n",
      "[Epoch 13/20] Batch 20/81 loss: 0.29853\n",
      "[Epoch 13/20] Batch 40/81 loss: 0.29020\n",
      "[Epoch 13/20] Batch 60/81 loss: 0.26589\n",
      "[Epoch 13/20] Batch 80/81 loss: 0.42278\n",
      "Validation set MAE loss: 58.82994\n",
      "[Epoch 14/20] Batch 20/81 loss: 0.30135\n",
      "[Epoch 14/20] Batch 40/81 loss: 0.28442\n",
      "[Epoch 14/20] Batch 60/81 loss: 0.24808\n",
      "[Epoch 14/20] Batch 80/81 loss: 0.41941\n",
      "Validation set MAE loss: 53.16744\n",
      "[Epoch 15/20] Batch 20/81 loss: 0.29547\n",
      "[Epoch 15/20] Batch 40/81 loss: 0.26585\n",
      "[Epoch 15/20] Batch 60/81 loss: 0.24938\n",
      "[Epoch 15/20] Batch 80/81 loss: 0.40648\n",
      "Validation set MAE loss: 58.71032\n",
      "[Epoch 16/20] Batch 20/81 loss: 0.29438\n",
      "[Epoch 16/20] Batch 40/81 loss: 0.27904\n",
      "[Epoch 16/20] Batch 60/81 loss: 0.24299\n",
      "[Epoch 16/20] Batch 80/81 loss: 0.39477\n",
      "Validation set MAE loss: 58.47944\n",
      "[Epoch 17/20] Batch 20/81 loss: 0.30045\n",
      "[Epoch 17/20] Batch 40/81 loss: 0.28026\n",
      "[Epoch 17/20] Batch 60/81 loss: 0.24279\n",
      "[Epoch 17/20] Batch 80/81 loss: 0.39788\n",
      "Validation set MAE loss: 56.41800\n",
      "[Epoch 18/20] Batch 20/81 loss: 0.29180\n",
      "[Epoch 18/20] Batch 40/81 loss: 0.26783\n",
      "[Epoch 18/20] Batch 60/81 loss: 0.24165\n",
      "[Epoch 18/20] Batch 80/81 loss: 0.38885\n",
      "Validation set MAE loss: 55.70491\n",
      "[Epoch 19/20] Batch 20/81 loss: 0.28516\n",
      "[Epoch 19/20] Batch 40/81 loss: 0.26736\n",
      "[Epoch 19/20] Batch 60/81 loss: 0.23926\n",
      "[Epoch 19/20] Batch 80/81 loss: 0.38001\n",
      "Validation set MAE loss: 53.22774\n",
      "[Epoch 20/20] Batch 20/81 loss: 0.28277\n",
      "[Epoch 20/20] Batch 40/81 loss: 0.25502\n",
      "[Epoch 20/20] Batch 60/81 loss: 0.23243\n",
      "[Epoch 20/20] Batch 80/81 loss: 0.36804\n",
      "Validation set MAE loss: 48.41906\n",
      "Finished Training\n"
     ]
    }
   ],
   "source": [
    "for epoch in range(n_epochs):\n",
    "    \n",
    "    running_loss = 0.0\n",
    "    for i, (mains, appliance) in enumerate(train_generator):\n",
    "        mains = mains.to(torch.float32).to(device)\n",
    "        appliance = appliance.to(torch.float32).to(device)\n",
    "        \n",
    "        # zero the parameter gradients\n",
    "        optim.zero_grad()\n",
    "        outputs = model(mains)\n",
    "        loss = criterion(outputs, appliance)\n",
    "        loss.backward()\n",
    "        optim.step()\n",
    "        \n",
    "#         # print statistics\n",
    "#         running_loss += loss.item()\n",
    "#         if i % len(train_generator) == len(train_generator)-1:\n",
    "#             print(f\"[Epoch {epoch+1:3.0f}/{n_epochs}] Batch loss: {running_loss/len(train_generator):.5f}\")\n",
    "#             running_loss = 0.0\n",
    "            \n",
    "        # print statistics\n",
    "        running_loss += loss.item()\n",
    "        if i % visulize_step == visulize_step-1:\n",
    "            print(f\"[Epoch{epoch+1:3.0f}/{n_epochs}] Batch {i+1:.0f}/{len(train_generator)} loss: {running_loss/visulize_step:.5f}\")\n",
    "            running_loss = 0.0\n",
    "        \n",
    "#         if i==1:\n",
    "        if i % len(train_generator) == len(train_generator)-1:\n",
    "            validate_model(df, model)\n",
    "        \n",
    "print('Finished Training')"
   ]
  },
  {
   "cell_type": "code",
   "execution_count": 13,
   "id": "f4f8ed86",
   "metadata": {},
   "outputs": [],
   "source": [
    "torch.save(model, f\"./cnn_DW_unet.pt\")"
   ]
  },
  {
   "cell_type": "code",
   "execution_count": 14,
   "id": "b21355dd",
   "metadata": {},
   "outputs": [],
   "source": [
    "train_size = 0.9\n",
    "pos = int(train_size*df.shape[0])\n",
    "df_test = df.iloc[pos:,:]\n",
    "df_test_norm = normalizer.transform(df_test)\n",
    "\n",
    "class NILMTestDataset(Dataset):\n",
    "    def __init__(self, df, window_size=512, stride=512):\n",
    "        self.data = df\n",
    "        self.window_size = window_size\n",
    "        self.nrows = df.shape[0]\n",
    "        self.stride = stride\n",
    "  \n",
    "    def __len__(self):     \n",
    "        return (self.nrows-self.window_size+1)//self.stride\n",
    "\n",
    "    def __getitem__(self, i):\n",
    "        i = self.stride*i\n",
    "        aggregate = self.data.iloc[i:i+self.window_size,0].values.reshape(1,-1)\n",
    "        appliance = self.data.iloc[i:i+self.window_size,1].values.reshape(1,-1)\n",
    "        return aggregate, appliance\n",
    "\n",
    "test_set = NILMTestDataset(df_test_norm)\n",
    "test_generator = DataLoader(test_set, batch_size=100, shuffle=False)"
   ]
  },
  {
   "cell_type": "code",
   "execution_count": 15,
   "id": "2e87d413",
   "metadata": {},
   "outputs": [],
   "source": [
    "preds = []\n",
    "reals = []\n",
    "aggs = []\n",
    "\n",
    "with torch.no_grad():\n",
    "    for aggregate, appliance in test_generator:\n",
    "        agg = aggregate.numpy().reshape(-1)\n",
    "        pred = model(aggregate.to(torch.float32).to(device))\n",
    "        pred = pred.detach().cpu().numpy().reshape(-1)\n",
    "        real = appliance.numpy().reshape(-1)\n",
    "        \n",
    "        aggs += agg.tolist()\n",
    "        preds += pred.tolist()\n",
    "        reals += real.tolist()\n"
   ]
  },
  {
   "cell_type": "code",
   "execution_count": 16,
   "id": "b4b2e3c4",
   "metadata": {},
   "outputs": [],
   "source": [
    "aggs_inv = [x*normalizer.sd.values[0] + normalizer.mu.values[0] for x in aggs]\n",
    "reals_inv = [x*normalizer.sd.values[1] + normalizer.mu.values[1] for x in reals]\n",
    "preds_inv = [x*normalizer.sd.values[1] + normalizer.mu.values[1] for x in preds]\n"
   ]
  },
  {
   "cell_type": "code",
   "execution_count": 17,
   "id": "a63f40b0",
   "metadata": {},
   "outputs": [
    {
     "data": {
      "text/plain": [
       "57.52718025829517"
      ]
     },
     "execution_count": 17,
     "metadata": {},
     "output_type": "execute_result"
    }
   ],
   "source": [
    "mae(reals_inv, preds_inv)"
   ]
  },
  {
   "cell_type": "code",
   "execution_count": 29,
   "id": "2e1cccb5",
   "metadata": {},
   "outputs": [
    {
     "data": {
      "image/png": "[encoded data removed]",
      "text/plain": [
       "<Figure size 936x432 with 1 Axes>"
      ]
     },
     "metadata": {
      "needs_background": "light"
     },
     "output_type": "display_data"
    }
   ],
   "source": [
    "s =100000\n",
    "t = s+5000\n",
    "plt.plot(preds_inv[s:t], label=\"pred\")\n",
    "plt.plot(reals_inv[s:t], label=\"real\")\n",
    "plt.plot(aggs_inv[s:t], label=\"agg\")\n",
    "plt.legend()\n",
    "plt.show()"
   ]
  },
  {
   "cell_type": "code",
   "execution_count": null,
   "id": "e6a5ca88",
   "metadata": {},
   "outputs": [],
   "source": []
  }
 ],
 "metadata": {
  "kernelspec": {
   "display_name": "Python 3 (ipykernel)",
   "language": "python",
   "name": "python3"
  },
  "language_info": {
   "codemirror_mode": {
    "name": "ipython",
    "version": 3
   },
   "file_extension": ".py",
   "mimetype": "text/x-python",
   "name": "python",
   "nbconvert_exporter": "python",
   "pygments_lexer": "ipython3",
   "version": "3.7.3"
  }
 },
 "nbformat": 4,
 "nbformat_minor": 5
}
