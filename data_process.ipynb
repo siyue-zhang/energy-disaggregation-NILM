{
 "cells": [
  {
   "cell_type": "code",
   "execution_count": 1,
   "id": "31c73d73",
   "metadata": {},
   "outputs": [],
   "source": [
    "from utils import *\n",
    "import pandas as pd\n",
    "import random\n",
    "from collections import defaultdict\n",
    "\n",
    "fpath = \"D:/Projects/nilm-REFIT/CLEAN_REFIT/\"\n",
    "fmeta = \"D:/Projects/nilm-REFIT/MetaData_Tables.xlsx\""
   ]
  },
  {
   "cell_type": "code",
   "execution_count": 2,
   "id": "82447553",
   "metadata": {},
   "outputs": [],
   "source": [
    "houses = [5, 7, 9, 13, 16]\n",
    "select_appliance = \"Dishwasher\"\n",
    "raw_data = defaultdict(lambda: None)\n",
    "houses_have_appliance = []"
   ]
  },
  {
   "cell_type": "code",
   "execution_count": 3,
   "id": "454e7bc9",
   "metadata": {},
   "outputs": [
    {
     "name": "stdout",
     "output_type": "stream",
     "text": [
      "Dishwasher is found in CLEAN_House5.\n",
      "\n",
      "Analyze Dishwasher's energy signature...\n",
      "Max power:      2700W\n",
      "@ Zero Power:      68.2% time\n",
      "@ Below Threshold (40W): 25.6% time |     8W in average\n",
      "@ Above Threshold (40W):  6.2% time |   900W in average\n",
      "\n",
      "Imported CLEAN_House5 Dishwasher data: 7430755 rows.\n",
      "\n",
      "Dishwasher is found in CLEAN_House7.\n",
      "\n",
      "Analyze Dishwasher's energy signature...\n",
      "Max power:      3100W\n",
      "@ Zero Power:      89.0% time\n",
      "@ Below Threshold (40W): 4.8% time |     8W in average\n",
      "@ Above Threshold (40W):  6.2% time |  1100W in average\n",
      "\n",
      "Imported CLEAN_House7 Dishwasher data: 6756034 rows.\n",
      "\n",
      "Dishwasher is found in CLEAN_House9.\n",
      "\n",
      "Analyze Dishwasher's energy signature...\n",
      "Max power:      3100W\n",
      "@ Zero Power:      93.1% time\n",
      "@ Below Threshold (40W): 0.7% time |    22W in average\n",
      "@ Above Threshold (40W):  6.2% time |   800W in average\n",
      "\n",
      "Imported CLEAN_House9 Dishwasher data: 6169525 rows.\n",
      "\n",
      "Dishwasher is found in CLEAN_House13.\n",
      "\n",
      "Analyze Dishwasher's energy signature...\n",
      "Max power:      2500W\n",
      "@ Zero Power:      98.1% time\n",
      "@ Below Threshold (40W): 0.4% time |     8W in average\n",
      "@ Above Threshold (40W):  1.5% time |  1500W in average\n",
      "\n",
      "Imported CLEAN_House13 Dishwasher data: 4737371 rows.\n",
      "\n",
      "Dishwasher is found in CLEAN_House16.\n",
      "\n",
      "Analyze Dishwasher's energy signature...\n",
      "Max power:      3400W\n",
      "@ Zero Power:      93.6% time\n",
      "@ Below Threshold (40W): 4.7% time |     3W in average\n",
      "@ Above Threshold (40W):  1.7% time |  1600W in average\n",
      "\n",
      "Imported CLEAN_House16 Dishwasher data: 5722544 rows.\n",
      "\n"
     ]
    }
   ],
   "source": [
    "for h_id in houses:\n",
    "    fname = f\"CLEAN_House{h_id}.csv\"\n",
    "    \n",
    "    meta = pd.read_excel(fmeta, sheet_name=f\"House {h_id}\", header=None)\n",
    "    meta.columns = [\"id\", \"Appliance\", \"Brand\", \"Model\"] + [\"na\"]*(len(meta.columns)-4)\n",
    "    meta.set_index(\"id\", inplace=True)\n",
    "    appliances = meta[\"Appliance\"].tolist()\n",
    "\n",
    "    if select_appliance in appliances:\n",
    "        print(f\"{select_appliance} is found in CLEAN_House{h_id}.\\n\")\n",
    "        houses_have_appliance.append(h_id)\n",
    "        df = pd.read_csv(fpath+fname, index_col=\"Time\", parse_dates=True)\n",
    "        df = df.drop(columns=[\"Unix\", \"Issues\"])\n",
    "        df.columns = [ meta.loc[str_to_int(app),\"Appliance\"] if app != \"Aggregate\" else app for app in df.columns]\n",
    "        df = df[[\"Aggregate\",select_appliance]]\n",
    "        analyze_appliance_signature(df,select_appliance,40)\n",
    "    \n",
    "    raw_data[h_id] = df\n",
    "    print(f\"\\nImported CLEAN_House{h_id} {select_appliance} data: {df.shape[0]} rows.\\n\")\n"
   ]
  },
  {
   "cell_type": "code",
   "execution_count": 30,
   "id": "1048e508",
   "metadata": {},
   "outputs": [],
   "source": [
    "df = raw_data[16]"
   ]
  },
  {
   "cell_type": "code",
   "execution_count": 31,
   "id": "b31413bb",
   "metadata": {},
   "outputs": [],
   "source": [
    "status = df[select_appliance]>0\n",
    "on_index = []\n",
    "off_index = []\n",
    "\n",
    "for i in range(df.shape[0]-1):\n",
    "    if status[i] == False and status[i+1] == True:\n",
    "        on_index.append(i+1)\n",
    "    if status[i] == True and status[i+1] == False:\n",
    "        off_index.append(i)\n",
    "        \n",
    "if on_index[0] > off_index[0]:\n",
    "    del off_index[0]\n",
    "if on_index[-1] > off_index[-1]:\n",
    "    del on_index[-1]\n",
    "\n",
    "assert(len(on_index)==len(off_index))\n"
   ]
  },
  {
   "cell_type": "code",
   "execution_count": 32,
   "id": "cdf14782",
   "metadata": {},
   "outputs": [
    {
     "data": {
      "text/plain": [
       "([10187, 24595, 26450, 44318, 48816, 54657, 60180, 69888, 92002, 110014],\n",
       " [10910, 25189, 27129, 47098, 49226, 54658, 60459, 70851, 92405, 110416])"
      ]
     },
     "execution_count": 32,
     "metadata": {},
     "output_type": "execute_result"
    }
   ],
   "source": [
    "on_index[:10], off_index[:10]"
   ]
  },
  {
   "cell_type": "code",
   "execution_count": null,
   "id": "6b0f5a9d",
   "metadata": {},
   "outputs": [],
   "source": [
    "limit = 400\n",
    "n = len(on_index)\n",
    "delete_index = []\n",
    "for i in range(n-1):\n",
    "    distance = on_index[i+1] - off_index[i]\n",
    "    if distance <= limit:\n",
    "        break\n",
    "    mid = (on_index[i+1] + off_index[i])//2"
   ]
  },
  {
   "cell_type": "code",
   "execution_count": 8,
   "id": "d1374bef",
   "metadata": {},
   "outputs": [
    {
     "data": {
      "text/plain": [
       "Aggregate     555.727949\n",
       "Dishwasher     26.756878\n",
       "dtype: float64"
      ]
     },
     "execution_count": 8,
     "metadata": {},
     "output_type": "execute_result"
    }
   ],
   "source": [
    "import torch\n",
    "from torch import nn\n",
    "import random\n",
    "\n",
    "import torchvision\n",
    "from torch.utils.data import Dataset, DataLoader\n",
    "\n",
    "device = get_device()\n",
    "df_norm, normalizer = fit_normalize_df(df)\n",
    "normalizer.mu"
   ]
  },
  {
   "cell_type": "code",
   "execution_count": 9,
   "id": "29266961",
   "metadata": {},
   "outputs": [],
   "source": [
    "class NILMDataset(Dataset):\n",
    "    def __init__(self, df, window_size=599):\n",
    "        self.data = df\n",
    "        self.window_size = window_size\n",
    "        self.nrows = df.shape[0]\n",
    "        \n",
    "    def __len__(self):     \n",
    "        return (self.nrows-self.window_size+1)\n",
    "\n",
    "    def __getitem__(self, i):\n",
    "        aggregate = self.data.iloc[i:i+self.window_size,0].values.reshape(1,-1)\n",
    "        appliance = self.data.iloc[i+self.window_size//2,1].reshape(-1)\n",
    "        return aggregate, appliance\n",
    "\n",
    "train_size = 0.7\n",
    "pos = int(train_size*df.shape[0])\n",
    "df_train = df_norm.iloc[:pos,:]\n",
    "\n",
    "train_set = NILMDataset(df_train)\n",
    "train_generator = DataLoader(train_set, batch_size=1000, shuffle=False)"
   ]
  },
  {
   "cell_type": "code",
   "execution_count": 10,
   "id": "1267f0b9",
   "metadata": {},
   "outputs": [
    {
     "data": {
      "image/png": "[encoded data removed]",
      "text/plain": [
       "<Figure size 936x432 with 1 Axes>"
      ]
     },
     "metadata": {
      "needs_background": "light"
     },
     "output_type": "display_data"
    }
   ],
   "source": [
    "X_cat, y_cat = concat_dataloader(train_generator, 599)\n",
    "\n",
    "s=0\n",
    "e=s+2000\n",
    "plt.plot(X_cat[s:e], label=\"X\")\n",
    "plt.plot(y_cat[s:e], label=\"y\")\n",
    "plt.legend()\n",
    "plt.show()"
   ]
  },
  {
   "cell_type": "code",
   "execution_count": 11,
   "id": "8a35b3ff",
   "metadata": {},
   "outputs": [
    {
     "data": {
      "text/plain": [
       "(torch.Size([1000, 1, 599]), torch.Size([1000, 1]))"
      ]
     },
     "execution_count": 11,
     "metadata": {},
     "output_type": "execute_result"
    }
   ],
   "source": [
    "for x,y in train_generator:\n",
    "    break\n",
    "x.size(), y.size()"
   ]
  },
  {
   "cell_type": "code",
   "execution_count": 23,
   "id": "9310e188",
   "metadata": {},
   "outputs": [],
   "source": [
    "import torch.nn.functional as F\n",
    "import torch.optim as optim\n",
    "\n",
    "\n",
    "class FeatureExtractor(nn.Module):\n",
    "    def __init__(self):\n",
    "        super(FeatureExtractor, self).__init__()\n",
    "        self.pad1 = nn.ReplicationPad2d((0, 0, 3, 3))\n",
    "        self.conv1 = nn.Conv2d(in_channels=1, out_channels=30, kernel_size=(7, 1), stride=(1, 1), padding=(0, 0), bias=True)\n",
    "        self.conv1_bn = nn.BatchNorm2d(30)\n",
    "        self.maxpool1 = nn.MaxPool2d(kernel_size=(3,1), stride=(3,1))\n",
    "        self.pad2 = nn.ReplicationPad2d((0, 0, 2, 2))\n",
    "        self.conv2 = nn.Conv2d(in_channels=30, out_channels=40, kernel_size=(5, 1), stride=(1, 1), padding=(0, 0), bias=True)\n",
    "        self.conv2_bn = nn.BatchNorm2d(40)\n",
    "        self.pad3 = nn.ReplicationPad2d((0, 0, 2, 2))\n",
    "        self.conv3 = nn.Conv2d(in_channels=40, out_channels=40, kernel_size=(5, 1), stride=(1, 1), padding=(0, 0), bias=True)\n",
    "        self.conv3_bn = nn.BatchNorm2d(40)\n",
    "        self.pad4 = nn.ReplicationPad2d((0, 0, 1, 1))\n",
    "        self.conv4 = nn.Conv2d(in_channels=40, out_channels=50, kernel_size=(3, 1), stride=(1, 1), padding=(0, 0), bias=True)\n",
    "        self.conv4_bn = nn.BatchNorm2d(50)\n",
    "        self.maxpool2 = nn.MaxPool2d(kernel_size=(2, 1), stride=(2, 1))\n",
    "\n",
    "    def forward(self, x):\n",
    "        x = x.view(x.shape[0], 1, x.shape[2], 1)\n",
    "        x = self.pad1(x)\n",
    "        x = self.conv1(x)\n",
    "        x = self.conv1_bn(F.relu(x))\n",
    "        x = self.maxpool1(x)\n",
    "        x = self.pad2(x)\n",
    "        x = self.conv2(x)\n",
    "        x = self.conv2_bn(F.relu(x))\n",
    "        x = self.pad3(x)\n",
    "        x = self.conv3(x)\n",
    "        x = self.conv3_bn(F.relu(x))\n",
    "        x = self.pad4(x)\n",
    "        x = self.conv4(x)\n",
    "        x = self.conv4_bn(F.relu(x))\n",
    "        x = self.maxpool2(x)\n",
    "        # (batch, 50, 99, 1)\n",
    "        return x"
   ]
  },
  {
   "cell_type": "code",
   "execution_count": 24,
   "id": "be16cf48",
   "metadata": {},
   "outputs": [],
   "source": [
    "class FeatureEmbedder(nn.Module):\n",
    "    def __init__(self, in_size=50*99):\n",
    "        super( FeatureEmbedder, self).__init__()\n",
    "        self.dense = nn.Sequential(nn.Linear(in_size, 1024),\n",
    "                                  nn.BatchNorm1d(1024, affine=True),\n",
    "                                  nn.ReLU(),\n",
    "                                  nn.Linear(1024, 512),\n",
    "                                  nn.BatchNorm1d(512, affine=True),\n",
    "                                  nn.ReLU(),\n",
    "                                  nn.Dropout())\n",
    "        self.predict = nn.Linear(512, 1)\n",
    "        \n",
    "    def forward(self, x):\n",
    "        x = x.view(x.size()[0], -1)\n",
    "        x = self.dense(x)\n",
    "        x = self.predict(x)\n",
    "        return x"
   ]
  },
  {
   "cell_type": "code",
   "execution_count": 25,
   "id": "a0771749",
   "metadata": {},
   "outputs": [],
   "source": [
    "class Seq2Point(nn.Module):\n",
    "    def __init__(self, extractor, embedder):\n",
    "        super(Seq2Point, self).__init__()  \n",
    "\n",
    "        self.extractor = extractor\n",
    "        self.embedder = embedder\n",
    "    \n",
    "    def forward(self, x):\n",
    "        x = self.extractor(x)\n",
    "        x = self.embedder(x)\n",
    "        return x"
   ]
  },
  {
   "cell_type": "code",
   "execution_count": 26,
   "id": "0f9f4e42",
   "metadata": {},
   "outputs": [
    {
     "name": "stdout",
     "output_type": "stream",
     "text": [
      "----------------------------------------------------------------\n",
      "        Layer (type)               Output Shape         Param #\n",
      "================================================================\n",
      "  ReplicationPad2d-1          [1000, 1, 605, 1]               0\n",
      "            Conv2d-2         [1000, 30, 599, 1]             240\n",
      "       BatchNorm2d-3         [1000, 30, 599, 1]              60\n",
      "         MaxPool2d-4         [1000, 30, 199, 1]               0\n",
      "  ReplicationPad2d-5         [1000, 30, 203, 1]               0\n",
      "            Conv2d-6         [1000, 40, 199, 1]           6,040\n",
      "       BatchNorm2d-7         [1000, 40, 199, 1]              80\n",
      "  ReplicationPad2d-8         [1000, 40, 203, 1]               0\n",
      "            Conv2d-9         [1000, 40, 199, 1]           8,040\n",
      "      BatchNorm2d-10         [1000, 40, 199, 1]              80\n",
      " ReplicationPad2d-11         [1000, 40, 201, 1]               0\n",
      "           Conv2d-12         [1000, 50, 199, 1]           6,050\n",
      "      BatchNorm2d-13         [1000, 50, 199, 1]             100\n",
      "        MaxPool2d-14          [1000, 50, 99, 1]               0\n",
      " FeatureExtractor-15          [1000, 50, 99, 1]               0\n",
      "           Linear-16               [1000, 1024]       5,069,824\n",
      "      BatchNorm1d-17               [1000, 1024]           2,048\n",
      "             ReLU-18               [1000, 1024]               0\n",
      "           Linear-19                [1000, 512]         524,800\n",
      "      BatchNorm1d-20                [1000, 512]           1,024\n",
      "             ReLU-21                [1000, 512]               0\n",
      "          Dropout-22                [1000, 512]               0\n",
      "           Linear-23                  [1000, 1]             513\n",
      "  FeatureEmbedder-24                  [1000, 1]               0\n",
      "================================================================\n",
      "Total params: 5,618,899\n",
      "Trainable params: 5,618,899\n",
      "Non-trainable params: 0\n",
      "----------------------------------------------------------------\n",
      "Input size (MB): 2.29\n",
      "Forward/backward pass size (MB): 1003.47\n",
      "Params size (MB): 21.43\n",
      "Estimated Total Size (MB): 1027.19\n",
      "----------------------------------------------------------------\n"
     ]
    },
    {
     "name": "stderr",
     "output_type": "stream",
     "text": [
      "C:\\Users\\z1061\\Anaconda3\\envs\\pytorchenv_gpu\\lib\\site-packages\\torch\\nn\\functional.py:718: UserWarning: Named tensors and all their associated APIs are an experimental feature and subject to change. Please do not use them for anything important until they are released as stable. (Triggered internally at  ..\\c10/core/TensorImpl.h:1156.)\n",
      "  return torch.max_pool2d(input, kernel_size, stride, padding, dilation, ceil_mode)\n"
     ]
    }
   ],
   "source": [
    "from torchsummary import summary\n",
    "extractor = FeatureExtractor()\n",
    "embedder = FeatureEmbedder()\n",
    "model = Seq2Point(extractor, embedder)\n",
    "summary(model, (1,599), batch_size=1000, device=\"cpu\")"
   ]
  },
  {
   "cell_type": "code",
   "execution_count": 27,
   "id": "c1de4d7a",
   "metadata": {},
   "outputs": [],
   "source": [
    "n_epochs = 10\n",
    "input_dim = 1\n",
    "output_dim = 1\n",
    "visulize_step = 20\n",
    "lr = 0.001\n",
    "\n",
    "extractor = FeatureExtractor()\n",
    "embedder = FeatureEmbedder()\n",
    "model = Seq2Point(extractor, embedder)\n",
    "model = model.to(device)\n",
    "\n",
    "criterion = nn.L1Loss()\n",
    "optim = torch.optim.Adam(model.parameters(), lr=lr)\n",
    "\n",
    "def weights_init(m):\n",
    "    if isinstance(m, nn.Conv1d) or isinstance(m, nn.ConvTranspose1d):\n",
    "        torch.nn.init.normal_(m.weight, 0.0, 0.02)\n",
    "    if isinstance(m, nn.BatchNorm1d):\n",
    "        torch.nn.init.normal_(m.weight, 0.0, 0.02)\n",
    "        torch.nn.init.constant_(m.bias, 0)\n",
    "\n",
    "model = model.apply(weights_init)"
   ]
  },
  {
   "cell_type": "code",
   "execution_count": 28,
   "id": "0d4b9f6e",
   "metadata": {},
   "outputs": [
    {
     "ename": "KeyboardInterrupt",
     "evalue": "",
     "output_type": "error",
     "traceback": [
      "\u001b[1;31m---------------------------------------------------------------------------\u001b[0m",
      "\u001b[1;31mKeyboardInterrupt\u001b[0m                         Traceback (most recent call last)",
      "\u001b[1;32m~\\AppData\\Local\\Temp/ipykernel_14876/3687002803.py\u001b[0m in \u001b[0;36m<module>\u001b[1;34m\u001b[0m\n\u001b[0;32m     14\u001b[0m \u001b[1;33m\u001b[0m\u001b[0m\n\u001b[0;32m     15\u001b[0m         \u001b[1;31m# print statistics\u001b[0m\u001b[1;33m\u001b[0m\u001b[1;33m\u001b[0m\u001b[1;33m\u001b[0m\u001b[0m\n\u001b[1;32m---> 16\u001b[1;33m         \u001b[0mrunning_loss\u001b[0m \u001b[1;33m+=\u001b[0m \u001b[0mloss\u001b[0m\u001b[1;33m.\u001b[0m\u001b[0mitem\u001b[0m\u001b[1;33m(\u001b[0m\u001b[1;33m)\u001b[0m\u001b[1;33m\u001b[0m\u001b[1;33m\u001b[0m\u001b[0m\n\u001b[0m\u001b[0;32m     17\u001b[0m         \u001b[1;32mif\u001b[0m \u001b[0mi\u001b[0m \u001b[1;33m%\u001b[0m \u001b[0mlen\u001b[0m\u001b[1;33m(\u001b[0m\u001b[0mtrain_generator\u001b[0m\u001b[1;33m)\u001b[0m \u001b[1;33m==\u001b[0m \u001b[0mlen\u001b[0m\u001b[1;33m(\u001b[0m\u001b[0mtrain_generator\u001b[0m\u001b[1;33m)\u001b[0m\u001b[1;33m-\u001b[0m\u001b[1;36m1\u001b[0m\u001b[1;33m:\u001b[0m\u001b[1;33m\u001b[0m\u001b[1;33m\u001b[0m\u001b[0m\n\u001b[0;32m     18\u001b[0m             \u001b[0mprint\u001b[0m\u001b[1;33m(\u001b[0m\u001b[1;34mf\"[Epoch {epoch+1:3.0f}/{n_epochs}] Batch loss: {running_loss/len(train_generator):.5f}\"\u001b[0m\u001b[1;33m)\u001b[0m\u001b[1;33m\u001b[0m\u001b[1;33m\u001b[0m\u001b[0m\n",
      "\u001b[1;31mKeyboardInterrupt\u001b[0m: "
     ]
    }
   ],
   "source": [
    "for epoch in range(n_epochs):\n",
    "    \n",
    "    running_loss = 0.0\n",
    "    for i, (mains, appliance) in enumerate(train_generator):\n",
    "        mains = mains.to(torch.float32).to(device)\n",
    "        appliance = appliance.to(torch.float32).to(device)\n",
    "        \n",
    "        # zero the parameter gradients\n",
    "        optim.zero_grad()\n",
    "        outputs = model(mains)\n",
    "        loss = criterion(outputs, appliance)\n",
    "        loss.backward()\n",
    "        optim.step()\n",
    "        \n",
    "        # print statistics\n",
    "        running_loss += loss.item()\n",
    "        if i % len(train_generator) == len(train_generator)-1:\n",
    "            print(f\"[Epoch {epoch+1:3.0f}/{n_epochs}] Batch loss: {running_loss/len(train_generator):.5f}\")\n",
    "            running_loss = 0.0\n",
    "            \n",
    "#         # print statistics\n",
    "#         running_loss += loss.item()\n",
    "#         if i % visulize_step == visulize_step-1:\n",
    "#             print(f\"[Epoch{epoch+1:3.0f}/{n_epochs}] Batch {i+1:.0f}/{len(train_generator)} loss: {running_loss/visulize_step:.5f}\")\n",
    "#             running_loss = 0.0\n",
    "            \n",
    "print('Finished Training')"
   ]
  },
  {
   "cell_type": "code",
   "execution_count": null,
   "id": "9cd2d5fb",
   "metadata": {},
   "outputs": [],
   "source": []
  }
 ],
 "metadata": {
  "kernelspec": {
   "display_name": "Python 3 (ipykernel)",
   "language": "python",
   "name": "python3"
  },
  "language_info": {
   "codemirror_mode": {
    "name": "ipython",
    "version": 3
   },
   "file_extension": ".py",
   "mimetype": "text/x-python",
   "name": "python",
   "nbconvert_exporter": "python",
   "pygments_lexer": "ipython3",
   "version": "3.7.3"
  }
 },
 "nbformat": 4,
 "nbformat_minor": 5
}
